{
 "cells": [
  {
   "cell_type": "code",
   "execution_count": null,
   "id": "587e092f",
   "metadata": {},
   "outputs": [],
   "source": [
    "class Car :\n",
    "    def __intit__(self, model, rent_per_day, available):\n",
    "        self.model = model\n",
    "        self.rent_per_day = rent_per_day\n",
    "        self.available = True\n",
    "    def rent(self, days) : \n",
    "        if self.available :\n",
    "            self.available  = False\n",
    "            total_cost = self.rent_per_day*days\n",
    "            print(\"Car rented. Total cost = \",total_cost)\n",
    "        else :\n",
    "            print(\"Car not avilable\")\n",
    "    def return_car(self):\n",
    "        print(\"Car returned\")\n",
    "\n",
    "    def display(self) :\n",
    "        status = \"Avalable\" if self.available else \"Not available\"\n",
    "        print(f\"Model: {self.model}\")\n",
    "        print(f\"Rent per day: ${self.rent_per_day:.2f}\")\n",
    "        print(f\"Availability: {status}\")\n",
    "\n"
   ]
  },
  {
   "cell_type": "code",
   "execution_count": 9,
   "id": "952d4faa",
   "metadata": {},
   "outputs": [],
   "source": [
    "class Person:\n",
    "    def __init__(self,name,age):\n",
    "        self.name=name\n",
    "        self.age = age\n",
    "    def display_info(self):\n",
    "        print(f\"Name : {self.name},Age : {self.age}\")\n",
    "class Student(Person):\n",
    "    def __init__(self, name, age):\n",
    "        super().__init__(name,age)\n",
    "        self.mark = {}\n",
    "    def add_mark(self, subject,score):\n",
    "        if subject in self.mark:\n",
    "            print(f\"Updated {subject} = {score}\")\n",
    "        else:\n",
    "            print(f\"Added {subject} = {score}\")\n",
    "        self.mark[subject] =score\n",
    "    def display_mark(self):\n",
    "        if not self.mark:\n",
    "            print(\"Na mark available\")\n",
    "        else:\n",
    "            print(\"Marks:\")\n",
    "            for subject,score in self.mark.items():\n",
    "                print(f\"{subject}:{score}\")\n",
    "    def average(self):\n",
    "        if not self.marks:\n",
    "            return 0 \n",
    "        return sum(self.marks.values()) / len(self.marks)"
   ]
  }
 ],
 "metadata": {
  "kernelspec": {
   "display_name": "Python 3",
   "language": "python",
   "name": "python3"
  },
  "language_info": {
   "codemirror_mode": {
    "name": "ipython",
    "version": 3
   },
   "file_extension": ".py",
   "mimetype": "text/x-python",
   "name": "python",
   "nbconvert_exporter": "python",
   "pygments_lexer": "ipython3",
   "version": "3.12.6"
  }
 },
 "nbformat": 4,
 "nbformat_minor": 5
}
